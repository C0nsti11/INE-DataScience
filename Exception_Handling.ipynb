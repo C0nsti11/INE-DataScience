{
 "cells": [
  {
   "cell_type": "code",
   "execution_count": 3,
   "metadata": {},
   "outputs": [
    {
     "ename": "ExceptVal",
     "evalue": "ValueError",
     "output_type": "error",
     "traceback": [
      "\u001b[1;31m---------------------------------------------------------------------------\u001b[0m",
      "\u001b[1;31mExceptVal\u001b[0m                                 Traceback (most recent call last)",
      "\u001b[1;32mc:\\Users\\sau23\\OneDrive\\Documents\\GitHub\\INE-DataScience\\Exception_Handling.ipynb Cell 1\u001b[0m in \u001b[0;36m<cell line: 4>\u001b[1;34m()\u001b[0m\n\u001b[0;32m      <a href='vscode-notebook-cell:/c%3A/Users/sau23/OneDrive/Documents/GitHub/INE-DataScience/Exception_Handling.ipynb#W0sZmlsZQ%3D%3D?line=0'>1</a>\u001b[0m \u001b[39mclass\u001b[39;00m \u001b[39mExceptVal\u001b[39;00m(\u001b[39mException\u001b[39;00m):\n\u001b[0;32m      <a href='vscode-notebook-cell:/c%3A/Users/sau23/OneDrive/Documents/GitHub/INE-DataScience/Exception_Handling.ipynb#W0sZmlsZQ%3D%3D?line=1'>2</a>\u001b[0m     \u001b[39mpass\u001b[39;00m\n\u001b[1;32m----> <a href='vscode-notebook-cell:/c%3A/Users/sau23/OneDrive/Documents/GitHub/INE-DataScience/Exception_Handling.ipynb#W0sZmlsZQ%3D%3D?line=3'>4</a>\u001b[0m \u001b[39mraise\u001b[39;00m ExceptVal(\u001b[39m\"\u001b[39m\u001b[39mValueError\u001b[39m\u001b[39m\"\u001b[39m)\n",
      "\u001b[1;31mExceptVal\u001b[0m: ValueError"
     ]
    }
   ],
   "source": [
    "class ExceptVal(Exception):\n",
    "    pass\n",
    "\n",
    "\n",
    "raise ExceptVal(\"ValueError\")"
   ]
  },
  {
   "cell_type": "code",
   "execution_count": 6,
   "metadata": {},
   "outputs": [
    {
     "name": "stdout",
     "output_type": "stream",
     "text": [
      "Program will start in 5 secs\n"
     ]
    }
   ],
   "source": [
    "import pyautogui as pg\n",
    "import time\n",
    "\n",
    "print(\"Program will start in 5 secs\")\n",
    "time.sleep(5)\n",
    "\n",
    "for i in range(2):\n",
    "    pg.write(\"Gande Motu\")\n",
    "    time.sleep(0.5)\n",
    "    pg.write(\"\\n Bahut Gande Motu\")\n",
    "    pg.press(\"Enter\")"
   ]
  },
  {
   "cell_type": "code",
   "execution_count": null,
   "metadata": {},
   "outputs": [],
   "source": []
  }
 ],
 "metadata": {
  "kernelspec": {
   "display_name": "Python 3.10.5 64-bit",
   "language": "python",
   "name": "python3"
  },
  "language_info": {
   "codemirror_mode": {
    "name": "ipython",
    "version": 3
   },
   "file_extension": ".py",
   "mimetype": "text/x-python",
   "name": "python",
   "nbconvert_exporter": "python",
   "pygments_lexer": "ipython3",
   "version": "3.10.5"
  },
  "orig_nbformat": 4,
  "vscode": {
   "interpreter": {
    "hash": "26de051ba29f2982a8de78e945f0abaf191376122a1563185a90213a26c5da77"
   }
  }
 },
 "nbformat": 4,
 "nbformat_minor": 2
}
